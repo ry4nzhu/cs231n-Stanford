{
 "cells": [
  {
   "cell_type": "markdown",
   "metadata": {
    "tags": [
     "pdf-title"
    ]
   },
   "source": [
    "# Softmax exercise\n",
    "\n",
    "*Complete and hand in this completed worksheet (including its outputs and any supporting code outside of the worksheet) with your assignment submission. For more details see the [assignments page](http://vision.stanford.edu/teaching/cs231n/assignments.html) on the course website.*\n",
    "\n",
    "This exercise is analogous to the SVM exercise. You will:\n",
    "\n",
    "- implement a fully-vectorized **loss function** for the Softmax classifier\n",
    "- implement the fully-vectorized expression for its **analytic gradient**\n",
    "- **check your implementation** with numerical gradient\n",
    "- use a validation set to **tune the learning rate and regularization** strength\n",
    "- **optimize** the loss function with **SGD**\n",
    "- **visualize** the final learned weights\n"
   ]
  },
  {
   "cell_type": "code",
   "execution_count": 1,
   "metadata": {
    "tags": [
     "pdf-ignore"
    ]
   },
   "outputs": [],
   "source": [
    "import random\n",
    "import numpy as np\n",
    "from cs231n.data_utils import load_CIFAR10\n",
    "import matplotlib.pyplot as plt\n",
    "\n",
    "%matplotlib inline\n",
    "plt.rcParams['figure.figsize'] = (10.0, 8.0) # set default size of plots\n",
    "plt.rcParams['image.interpolation'] = 'nearest'\n",
    "plt.rcParams['image.cmap'] = 'gray'\n",
    "\n",
    "# for auto-reloading extenrnal modules\n",
    "# see http://stackoverflow.com/questions/1907993/autoreload-of-modules-in-ipython\n",
    "%load_ext autoreload\n",
    "%autoreload 2"
   ]
  },
  {
   "cell_type": "code",
   "execution_count": 2,
   "metadata": {
    "tags": [
     "pdf-ignore"
    ]
   },
   "outputs": [
    {
     "name": "stdout",
     "output_type": "stream",
     "text": [
      "Train data shape:  (49000, 3073)\n",
      "Train labels shape:  (49000,)\n",
      "Validation data shape:  (1000, 3073)\n",
      "Validation labels shape:  (1000,)\n",
      "Test data shape:  (1000, 3073)\n",
      "Test labels shape:  (1000,)\n",
      "dev data shape:  (500, 3073)\n",
      "dev labels shape:  (500,)\n"
     ]
    }
   ],
   "source": [
    "def get_CIFAR10_data(num_training=49000, num_validation=1000, num_test=1000, num_dev=500):\n",
    "    \"\"\"\n",
    "    Load the CIFAR-10 dataset from disk and perform preprocessing to prepare\n",
    "    it for the linear classifier. These are the same steps as we used for the\n",
    "    SVM, but condensed to a single function.  \n",
    "    \"\"\"\n",
    "    # Load the raw CIFAR-10 data\n",
    "    cifar10_dir = 'cs231n/datasets/cifar-10-batches-py'\n",
    "    \n",
    "    # Cleaning up variables to prevent loading data multiple times (which may cause memory issue)\n",
    "    try:\n",
    "       del X_train, y_train\n",
    "       del X_test, y_test\n",
    "       print('Clear previously loaded data.')\n",
    "    except:\n",
    "       pass\n",
    "\n",
    "    X_train, y_train, X_test, y_test = load_CIFAR10(cifar10_dir)\n",
    "    \n",
    "    # subsample the data\n",
    "    mask = list(range(num_training, num_training + num_validation))\n",
    "    X_val = X_train[mask]\n",
    "    y_val = y_train[mask]\n",
    "    mask = list(range(num_training))\n",
    "    X_train = X_train[mask]\n",
    "    y_train = y_train[mask]\n",
    "    mask = list(range(num_test))\n",
    "    X_test = X_test[mask]\n",
    "    y_test = y_test[mask]\n",
    "    mask = np.random.choice(num_training, num_dev, replace=False)\n",
    "    X_dev = X_train[mask]\n",
    "    y_dev = y_train[mask]\n",
    "    \n",
    "    # Preprocessing: reshape the image data into rows\n",
    "    X_train = np.reshape(X_train, (X_train.shape[0], -1))\n",
    "    X_val = np.reshape(X_val, (X_val.shape[0], -1))\n",
    "    X_test = np.reshape(X_test, (X_test.shape[0], -1))\n",
    "    X_dev = np.reshape(X_dev, (X_dev.shape[0], -1))\n",
    "    \n",
    "    # Normalize the data: subtract the mean image\n",
    "    mean_image = np.mean(X_train, axis = 0)\n",
    "    X_train -= mean_image\n",
    "    X_val -= mean_image\n",
    "    X_test -= mean_image\n",
    "    X_dev -= mean_image\n",
    "    \n",
    "    # add bias dimension and transform into columns\n",
    "    X_train = np.hstack([X_train, np.ones((X_train.shape[0], 1))])\n",
    "    X_val = np.hstack([X_val, np.ones((X_val.shape[0], 1))])\n",
    "    X_test = np.hstack([X_test, np.ones((X_test.shape[0], 1))])\n",
    "    X_dev = np.hstack([X_dev, np.ones((X_dev.shape[0], 1))])\n",
    "    \n",
    "    return X_train, y_train, X_val, y_val, X_test, y_test, X_dev, y_dev\n",
    "\n",
    "\n",
    "# Invoke the above function to get our data.\n",
    "X_train, y_train, X_val, y_val, X_test, y_test, X_dev, y_dev = get_CIFAR10_data()\n",
    "print('Train data shape: ', X_train.shape)\n",
    "print('Train labels shape: ', y_train.shape)\n",
    "print('Validation data shape: ', X_val.shape)\n",
    "print('Validation labels shape: ', y_val.shape)\n",
    "print('Test data shape: ', X_test.shape)\n",
    "print('Test labels shape: ', y_test.shape)\n",
    "print('dev data shape: ', X_dev.shape)\n",
    "print('dev labels shape: ', y_dev.shape)"
   ]
  },
  {
   "cell_type": "markdown",
   "metadata": {},
   "source": [
    "## Softmax Classifier\n",
    "\n",
    "Your code for this section will all be written inside **cs231n/classifiers/softmax.py**. \n"
   ]
  },
  {
   "cell_type": "code",
   "execution_count": 35,
   "metadata": {},
   "outputs": [
    {
     "name": "stdout",
     "output_type": "stream",
     "text": [
      "loss: 2.316964\n",
      "sanity check: 2.302585\n"
     ]
    }
   ],
   "source": [
    "# First implement the naive softmax loss function with nested loops.\n",
    "# Open the file cs231n/classifiers/softmax.py and implement the\n",
    "# softmax_loss_naive function.\n",
    "\n",
    "from cs231n.classifiers.softmax import softmax_loss_naive\n",
    "import time\n",
    "\n",
    "# Generate a random softmax weight matrix and use it to compute the loss.\n",
    "W = np.random.randn(3073, 10) * 0.0001\n",
    "loss, grad = softmax_loss_naive(W, X_dev, y_dev, 0.0)\n",
    "\n",
    "# As a rough sanity check, our loss should be something close to -log(0.1).\n",
    "print('loss: %f' % loss)\n",
    "print('sanity check: %f' % (-np.log(0.1)))"
   ]
  },
  {
   "cell_type": "markdown",
   "metadata": {
    "tags": [
     "pdf-inline"
    ]
   },
   "source": [
    "**Inline Question 1**\n",
    "\n",
    "Why do we expect our loss to be close to -log(0.1)? Explain briefly.**\n",
    "\n",
    "$\\color{blue}{\\textit Your Answer:}$ At initialization all s in the softmax function are equal. The loss will be equal to -log(1/category). Here categroy number is 10, so the loss should be close to -log(0.1).\n",
    "\n"
   ]
  },
  {
   "cell_type": "code",
   "execution_count": 36,
   "metadata": {},
   "outputs": [
    {
     "name": "stdout",
     "output_type": "stream",
     "text": [
      "numerical: -1.237528 analytic: -1.237528, relative error: 2.231136e-08\n",
      "numerical: 0.107195 analytic: 0.107195, relative error: 2.793817e-07\n",
      "numerical: -0.933592 analytic: -0.933592, relative error: 5.285345e-08\n",
      "numerical: 1.239705 analytic: 1.239705, relative error: 2.726323e-08\n",
      "numerical: 1.961306 analytic: 1.961306, relative error: 1.271192e-09\n",
      "numerical: 0.716561 analytic: 0.716561, relative error: 1.456234e-08\n",
      "numerical: 0.847958 analytic: 0.847958, relative error: 3.778073e-08\n",
      "numerical: 1.084591 analytic: 1.084590, relative error: 3.071320e-08\n",
      "numerical: -0.922900 analytic: -0.922900, relative error: 1.639554e-09\n",
      "numerical: 0.553832 analytic: 0.553832, relative error: 1.033772e-07\n",
      "numerical: -1.024977 analytic: -1.024977, relative error: 3.679195e-09\n",
      "numerical: 0.463360 analytic: 0.463360, relative error: 1.871738e-07\n",
      "numerical: 1.906943 analytic: 1.906943, relative error: 5.296458e-08\n",
      "numerical: 2.788859 analytic: 2.788859, relative error: 3.971482e-09\n",
      "numerical: -0.456565 analytic: -0.456565, relative error: 2.219004e-08\n",
      "numerical: 2.428668 analytic: 2.428668, relative error: 1.760984e-08\n",
      "numerical: -5.021601 analytic: -5.021601, relative error: 1.090867e-08\n",
      "numerical: -3.264676 analytic: -3.264676, relative error: 2.004716e-08\n",
      "numerical: 0.610710 analytic: 0.610709, relative error: 8.096262e-08\n",
      "numerical: 2.636175 analytic: 2.636175, relative error: 6.927171e-11\n"
     ]
    }
   ],
   "source": [
    "# Complete the implementation of softmax_loss_naive and implement a (naive)\n",
    "# version of the gradient that uses nested loops.\n",
    "loss, grad = softmax_loss_naive(W, X_dev, y_dev, 0.0)\n",
    "\n",
    "# As we did for the SVM, use numeric gradient checking as a debugging tool.\n",
    "# The numeric gradient should be close to the analytic gradient.\n",
    "from cs231n.gradient_check import grad_check_sparse\n",
    "f = lambda w: softmax_loss_naive(w, X_dev, y_dev, 0.0)[0]\n",
    "grad_numerical = grad_check_sparse(f, W, grad, 10)\n",
    "\n",
    "# similar to SVM case, do another gradient check with regularization\n",
    "loss, grad = softmax_loss_naive(W, X_dev, y_dev, 5e1)\n",
    "f = lambda w: softmax_loss_naive(w, X_dev, y_dev, 5e1)[0]\n",
    "grad_numerical = grad_check_sparse(f, W, grad, 10)"
   ]
  },
  {
   "cell_type": "code",
   "execution_count": 45,
   "metadata": {},
   "outputs": [
    {
     "name": "stdout",
     "output_type": "stream",
     "text": [
      "naive loss: 2.316964e+00 computed in 0.089498s\n",
      "vectorized loss: 2.316964e+00 computed in 0.002983s\n",
      "Loss difference: 0.000000\n",
      "Gradient difference: 0.000000\n"
     ]
    }
   ],
   "source": [
    "# Now that we have a naive implementation of the softmax loss function and its gradient,\n",
    "# implement a vectorized version in softmax_loss_vectorized.\n",
    "# The two versions should compute the same results, but the vectorized version should be\n",
    "# much faster.\n",
    "tic = time.time()\n",
    "loss_naive, grad_naive = softmax_loss_naive(W, X_dev, y_dev, 0.000005)\n",
    "toc = time.time()\n",
    "print('naive loss: %e computed in %fs' % (loss_naive, toc - tic))\n",
    "\n",
    "from cs231n.classifiers.softmax import softmax_loss_vectorized\n",
    "tic = time.time()\n",
    "loss_vectorized, grad_vectorized = softmax_loss_vectorized(W, X_dev, y_dev, 0.000005)\n",
    "toc = time.time()\n",
    "print('vectorized loss: %e computed in %fs' % (loss_vectorized, toc - tic))\n",
    "\n",
    "# As we did for the SVM, we use the Frobenius norm to compare the two versions\n",
    "# of the gradient.\n",
    "grad_difference = np.linalg.norm(grad_naive - grad_vectorized, ord='fro')\n",
    "print('Loss difference: %f' % np.abs(loss_naive - loss_vectorized))\n",
    "print('Gradient difference: %f' % grad_difference)"
   ]
  },
  {
   "cell_type": "code",
   "execution_count": 51,
   "metadata": {
    "tags": [
     "code"
    ]
   },
   "outputs": [
    {
     "name": "stdout",
     "output_type": "stream",
     "text": [
      "[(5e-08, 25000.0), (5e-08, 30000.0), (5e-08, 35000.0), (5e-08, 40000.0), (5e-08, 45000.0), (5e-08, 50000.0), (1e-07, 25000.0), (1e-07, 30000.0), (1e-07, 35000.0), (1e-07, 40000.0), (1e-07, 45000.0), (1e-07, 50000.0), (2e-07, 25000.0), (2e-07, 30000.0), (2e-07, 35000.0), (2e-07, 40000.0), (2e-07, 45000.0), (2e-07, 50000.0), (5e-07, 25000.0), (5e-07, 30000.0), (5e-07, 35000.0), (5e-07, 40000.0), (5e-07, 45000.0), (5e-07, 50000.0), (8e-07, 25000.0), (8e-07, 30000.0), (8e-07, 35000.0), (8e-07, 40000.0), (8e-07, 45000.0), (8e-07, 50000.0), (1e-06, 25000.0), (1e-06, 30000.0), (1e-06, 35000.0), (1e-06, 40000.0), (1e-06, 45000.0), (1e-06, 50000.0), (2e-06, 25000.0), (2e-06, 30000.0), (2e-06, 35000.0), (2e-06, 40000.0), (2e-06, 45000.0), (2e-06, 50000.0), (2.5e-06, 25000.0), (2.5e-06, 30000.0), (2.5e-06, 35000.0), (2.5e-06, 40000.0), (2.5e-06, 45000.0), (2.5e-06, 50000.0)]\n",
      "lr 5.000000e-08 reg 2.500000e+04 train accuracy: 0.306510 val accuracy: 0.319000\n",
      "lr 5.000000e-08 reg 3.000000e+04 train accuracy: 0.316939 val accuracy: 0.338000\n",
      "lr 5.000000e-08 reg 3.500000e+04 train accuracy: 0.313694 val accuracy: 0.328000\n",
      "lr 5.000000e-08 reg 4.000000e+04 train accuracy: 0.310041 val accuracy: 0.328000\n",
      "lr 5.000000e-08 reg 4.500000e+04 train accuracy: 0.311673 val accuracy: 0.315000\n",
      "lr 5.000000e-08 reg 5.000000e+04 train accuracy: 0.302857 val accuracy: 0.325000\n",
      "lr 1.000000e-07 reg 2.500000e+04 train accuracy: 0.333367 val accuracy: 0.354000\n",
      "lr 1.000000e-07 reg 3.000000e+04 train accuracy: 0.324286 val accuracy: 0.341000\n",
      "lr 1.000000e-07 reg 3.500000e+04 train accuracy: 0.312102 val accuracy: 0.323000\n",
      "lr 1.000000e-07 reg 4.000000e+04 train accuracy: 0.313020 val accuracy: 0.327000\n",
      "lr 1.000000e-07 reg 4.500000e+04 train accuracy: 0.311898 val accuracy: 0.326000\n",
      "lr 1.000000e-07 reg 5.000000e+04 train accuracy: 0.309633 val accuracy: 0.325000\n",
      "lr 2.000000e-07 reg 2.500000e+04 train accuracy: 0.331551 val accuracy: 0.348000\n",
      "lr 2.000000e-07 reg 3.000000e+04 train accuracy: 0.322776 val accuracy: 0.333000\n",
      "lr 2.000000e-07 reg 3.500000e+04 train accuracy: 0.317612 val accuracy: 0.331000\n",
      "lr 2.000000e-07 reg 4.000000e+04 train accuracy: 0.315408 val accuracy: 0.332000\n",
      "lr 2.000000e-07 reg 4.500000e+04 train accuracy: 0.305408 val accuracy: 0.322000\n",
      "lr 2.000000e-07 reg 5.000000e+04 train accuracy: 0.308857 val accuracy: 0.317000\n",
      "lr 5.000000e-07 reg 2.500000e+04 train accuracy: 0.330102 val accuracy: 0.344000\n",
      "lr 5.000000e-07 reg 3.000000e+04 train accuracy: 0.320653 val accuracy: 0.339000\n",
      "lr 5.000000e-07 reg 3.500000e+04 train accuracy: 0.306673 val accuracy: 0.322000\n",
      "lr 5.000000e-07 reg 4.000000e+04 train accuracy: 0.324286 val accuracy: 0.341000\n",
      "lr 5.000000e-07 reg 4.500000e+04 train accuracy: 0.304571 val accuracy: 0.323000\n",
      "lr 5.000000e-07 reg 5.000000e+04 train accuracy: 0.306245 val accuracy: 0.313000\n",
      "lr 8.000000e-07 reg 2.500000e+04 train accuracy: 0.318694 val accuracy: 0.329000\n",
      "lr 8.000000e-07 reg 3.000000e+04 train accuracy: 0.310347 val accuracy: 0.339000\n",
      "lr 8.000000e-07 reg 3.500000e+04 train accuracy: 0.315082 val accuracy: 0.324000\n",
      "lr 8.000000e-07 reg 4.000000e+04 train accuracy: 0.300592 val accuracy: 0.321000\n",
      "lr 8.000000e-07 reg 4.500000e+04 train accuracy: 0.316755 val accuracy: 0.329000\n",
      "lr 8.000000e-07 reg 5.000000e+04 train accuracy: 0.287531 val accuracy: 0.298000\n",
      "lr 1.000000e-06 reg 2.500000e+04 train accuracy: 0.319490 val accuracy: 0.324000\n",
      "lr 1.000000e-06 reg 3.000000e+04 train accuracy: 0.298939 val accuracy: 0.317000\n",
      "lr 1.000000e-06 reg 3.500000e+04 train accuracy: 0.309816 val accuracy: 0.332000\n",
      "lr 1.000000e-06 reg 4.000000e+04 train accuracy: 0.313796 val accuracy: 0.330000\n",
      "lr 1.000000e-06 reg 4.500000e+04 train accuracy: 0.293653 val accuracy: 0.297000\n",
      "lr 1.000000e-06 reg 5.000000e+04 train accuracy: 0.293959 val accuracy: 0.308000\n",
      "lr 2.000000e-06 reg 2.500000e+04 train accuracy: 0.307041 val accuracy: 0.310000\n",
      "lr 2.000000e-06 reg 3.000000e+04 train accuracy: 0.305020 val accuracy: 0.316000\n",
      "lr 2.000000e-06 reg 3.500000e+04 train accuracy: 0.287673 val accuracy: 0.287000\n",
      "lr 2.000000e-06 reg 4.000000e+04 train accuracy: 0.282959 val accuracy: 0.277000\n",
      "lr 2.000000e-06 reg 4.500000e+04 train accuracy: 0.297102 val accuracy: 0.307000\n",
      "lr 2.000000e-06 reg 5.000000e+04 train accuracy: 0.279429 val accuracy: 0.289000\n",
      "lr 2.500000e-06 reg 2.500000e+04 train accuracy: 0.270673 val accuracy: 0.272000\n",
      "lr 2.500000e-06 reg 3.000000e+04 train accuracy: 0.306327 val accuracy: 0.329000\n",
      "lr 2.500000e-06 reg 3.500000e+04 train accuracy: 0.298429 val accuracy: 0.309000\n",
      "lr 2.500000e-06 reg 4.000000e+04 train accuracy: 0.268449 val accuracy: 0.283000\n",
      "lr 2.500000e-06 reg 4.500000e+04 train accuracy: 0.276041 val accuracy: 0.300000\n",
      "lr 2.500000e-06 reg 5.000000e+04 train accuracy: 0.293082 val accuracy: 0.298000\n",
      "best validation accuracy achieved during cross-validation: 0.354000\n"
     ]
    }
   ],
   "source": [
    "# Use the validation set to tune hyperparameters (regularization strength and\n",
    "# learning rate). You should experiment with different ranges for the learning\n",
    "# rates and regularization strengths; if you are careful you should be able to\n",
    "# get a classification accuracy of over 0.35 on the validation set.\n",
    "from cs231n.classifiers import Softmax\n",
    "results = {}\n",
    "best_val = -1\n",
    "best_softmax = None\n",
    "learning_rates = [5e-8, 1e-7, 2e-7, 5e-7, 8e-7, 1e-6, 2e-6, 2.5e-6]\n",
    "regularization_strengths = [2.5e4, 3e4, 3.5e4, 4e4, 4.5e4, 5e4]\n",
    "\n",
    "################################################################################\n",
    "# TODO:                                                                        #\n",
    "# Use the validation set to set the learning rate and regularization strength. #\n",
    "# This should be identical to the validation that you did for the SVM; save    #\n",
    "# the best trained softmax classifer in best_softmax.                          #\n",
    "################################################################################\n",
    "# *****START OF YOUR CODE (DO NOT DELETE/MODIFY THIS LINE)*****\n",
    "\n",
    "hyper_para_tuple = []\n",
    "for lr in learning_rates:\n",
    "    for rs in regularization_strengths:\n",
    "        hyper_para_tuple.append((lr, rs))\n",
    "\n",
    "print(hyper_para_tuple)\n",
    "\n",
    "for lr,rs in hyper_para_tuple: \n",
    "    # Create a new Softmax instance\n",
    "    softmax_model = Softmax()\n",
    "    # Train the model with current parameters\n",
    "    softmax_model.train(X_train, y_train, learning_rate=lr, reg=rs, num_iters=1000)\n",
    "    # Predict values for training set\n",
    "    y_train_pred = softmax_model.predict(X_train)\n",
    "    # Calculate accuracy\n",
    "    train_accuracy = np.mean(y_train_pred == y_train)\n",
    "    # Predict values for validation set\n",
    "    y_val_pred = softmax_model.predict(X_val)\n",
    "    # Calculate accuracy\n",
    "    val_accuracy = np.mean(y_val_pred == y_val)\n",
    "    # Save results\n",
    "    results[(lr,rs)] = (train_accuracy, val_accuracy)\n",
    "    if best_val < val_accuracy:\n",
    "        best_val = val_accuracy\n",
    "        best_softmax = softmax_model\n",
    "\n",
    "# *****END OF YOUR CODE (DO NOT DELETE/MODIFY THIS LINE)*****\n",
    "    \n",
    "# Print out results.\n",
    "for lr, reg in sorted(results):\n",
    "    train_accuracy, val_accuracy = results[(lr, reg)]\n",
    "    print('lr %e reg %e train accuracy: %f val accuracy: %f' % (\n",
    "                lr, reg, train_accuracy, val_accuracy))\n",
    "    \n",
    "print('best validation accuracy achieved during cross-validation: %f' % best_val)"
   ]
  },
  {
   "cell_type": "code",
   "execution_count": 52,
   "metadata": {},
   "outputs": [
    {
     "name": "stdout",
     "output_type": "stream",
     "text": [
      "softmax on raw pixels final test set accuracy: 0.352000\n"
     ]
    }
   ],
   "source": [
    "# evaluate on test set\n",
    "# Evaluate the best softmax on test set\n",
    "y_test_pred = best_softmax.predict(X_test)\n",
    "test_accuracy = np.mean(y_test == y_test_pred)\n",
    "print('softmax on raw pixels final test set accuracy: %f' % (test_accuracy, ))"
   ]
  },
  {
   "cell_type": "markdown",
   "metadata": {
    "tags": [
     "pdf-inline"
    ]
   },
   "source": [
    "**Inline Question 2** - *True or False*\n",
    "\n",
    "Suppose the overall training loss is defined as the sum of the per-datapoint loss over all training examples. It is possible to add a new datapoint to a training set that would leave the SVM loss unchanged, but this is not the case with the Softmax classifier loss.\n",
    "\n",
    "$\\color{blue}{\\textit Your Answer:}$ True.\n",
    "\n",
    "\n",
    "$\\color{blue}{\\textit Your Explanation:}$ Say adding a datapoint which the actual class has the highest score like [5,4,3]. For the SVM loss, the loss is max(4-5+1, 0) + max(3-5+1, 0)= 0. The total loss remain unchanged. But the loss for softmax will increase because the possibility is not 1. That will lead to a increase in softmax loss.\n",
    "\n"
   ]
  },
  {
   "cell_type": "code",
   "execution_count": 53,
   "metadata": {},
   "outputs": [
    {
     "data": {
      "image/png": "[encoded data removed]",
      "text/plain": [
       "<Figure size 432x288 with 10 Axes>"
      ]
     },
     "metadata": {
      "needs_background": "light"
     },
     "output_type": "display_data"
    }
   ],
   "source": [
    "# Visualize the learned weights for each class\n",
    "w = best_softmax.W[:-1,:] # strip out the bias\n",
    "w = w.reshape(32, 32, 3, 10)\n",
    "\n",
    "w_min, w_max = np.min(w), np.max(w)\n",
    "\n",
    "classes = ['plane', 'car', 'bird', 'cat', 'deer', 'dog', 'frog', 'horse', 'ship', 'truck']\n",
    "for i in range(10):\n",
    "    plt.subplot(2, 5, i + 1)\n",
    "    \n",
    "    # Rescale the weights to be between 0 and 255\n",
    "    wimg = 255.0 * (w[:, :, :, i].squeeze() - w_min) / (w_max - w_min)\n",
    "    plt.imshow(wimg.astype('uint8'))\n",
    "    plt.axis('off')\n",
    "    plt.title(classes[i])"
   ]
  }
 ],
 "metadata": {
  "kernelspec": {
   "display_name": "Python 3",
   "language": "python",
   "name": "python3"
  },
  "language_info": {
   "codemirror_mode": {
    "name": "ipython",
    "version": 3
   },
   "file_extension": ".py",
   "mimetype": "text/x-python",
   "name": "python",
   "nbconvert_exporter": "python",
   "pygments_lexer": "ipython3",
   "version": "3.7.4"
  }
 },
 "nbformat": 4,
 "nbformat_minor": 1
}
